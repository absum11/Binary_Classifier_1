{
  "nbformat": 4,
  "nbformat_minor": 0,
  "metadata": {
    "colab": {
      "name": "Churn_model.ipynb",
      "provenance": []
    },
    "kernelspec": {
      "name": "python3",
      "display_name": "Python 3"
    }
  },
  "cells": [
    {
      "cell_type": "code",
      "metadata": {
        "id": "21Qw50-1UPf1"
      },
      "source": [
        "import pandas as pd\n",
        "d2=pd.read_csv('/content/churn_prprocessed.csv')"
      ],
      "execution_count": 5,
      "outputs": []
    },
    {
      "cell_type": "code",
      "metadata": {
        "id": "jEQP-4VZU0zR",
        "outputId": "5ff0ab74-4ced-4c26-aa01-59a8aef009bd",
        "colab": {
          "base_uri": "https://localhost:8080/"
        }
      },
      "source": [
        "# dividing dataset into features and labels\n",
        "X=d2.loc[:, d2.columns!='Churn']\n",
        "Y=d2.Churn\n",
        "print(X.shape , Y.shape)"
      ],
      "execution_count": 6,
      "outputs": [
        {
          "output_type": "stream",
          "text": [
            "(7043, 20) (7043,)\n"
          ],
          "name": "stdout"
        }
      ]
    },
    {
      "cell_type": "code",
      "metadata": {
        "id": "M48LqrgMVT9U",
        "outputId": "865d5e12-9352-44c8-9388-e6cba3cca0ea",
        "colab": {
          "base_uri": "https://localhost:8080/"
        }
      },
      "source": [
        "from sklearn.model_selection import train_test_split\n",
        "X_train, X_val_and_test,Y_train, Y_val_and_test =train_test_split(X,Y, test_size=0.3)\n",
        "X_val,X_test,Y_val,Y_test =train_test_split(X_val_and_test,Y_val_and_test, test_size=0.5)  # splitting validation and test sets\n",
        "print(X_train.shape, X_val.shape ,X_test.shape ,Y_train.shape, Y_val.shape,Y_test.shape)"
      ],
      "execution_count": 7,
      "outputs": [
        {
          "output_type": "stream",
          "text": [
            "(4930, 20) (1056, 20) (1057, 20) (4930,) (1056,) (1057,)\n"
          ],
          "name": "stdout"
        }
      ]
    },
    {
      "cell_type": "markdown",
      "metadata": {
        "id": "R36drJjfXqnj"
      },
      "source": [
        "Building Model Architecture"
      ]
    },
    {
      "cell_type": "code",
      "metadata": {
        "id": "VmNpH5ycVZWu",
        "outputId": "47d0581f-002e-4f9e-d49b-ecb33e860f96",
        "colab": {
          "base_uri": "https://localhost:8080/"
        }
      },
      "source": [
        "from keras.models import Sequential\n",
        "from keras.layers import Dense\n",
        "from keras.optimizers import RMSprop, Adadelta, Adam\n",
        "from keras.regularizers import l2\n",
        "model=Sequential([\n",
        "Dense(64, activation='relu',kernel_regularizer=l2(0.001), input_shape=(20,)),\n",
        "Dense(64, activation='relu',kernel_regularizer=l2(0.001)),\n",
        "Dense(32, activation='relu'),\n",
        "Dense(1, activation='sigmoid'),    \n",
        "])\n",
        "print(model.summary())"
      ],
      "execution_count": 84,
      "outputs": [
        {
          "output_type": "stream",
          "text": [
            "Model: \"sequential_9\"\n",
            "_________________________________________________________________\n",
            "Layer (type)                 Output Shape              Param #   \n",
            "=================================================================\n",
            "dense_31 (Dense)             (None, 64)                1344      \n",
            "_________________________________________________________________\n",
            "dense_32 (Dense)             (None, 64)                4160      \n",
            "_________________________________________________________________\n",
            "dense_33 (Dense)             (None, 32)                2080      \n",
            "_________________________________________________________________\n",
            "dense_34 (Dense)             (None, 1)                 33        \n",
            "=================================================================\n",
            "Total params: 7,617\n",
            "Trainable params: 7,617\n",
            "Non-trainable params: 0\n",
            "_________________________________________________________________\n",
            "None\n"
          ],
          "name": "stdout"
        }
      ]
    },
    {
      "cell_type": "code",
      "metadata": {
        "id": "QJ9mQeRbX4Ch"
      },
      "source": [
        "model.compile(optimizer='Adam', loss='binary_crossentropy', metrics=['accuracy'])   #configuring the model"
      ],
      "execution_count": 85,
      "outputs": []
    },
    {
      "cell_type": "code",
      "metadata": {
        "id": "_961Qoc6ZPPp",
        "outputId": "280dde60-3f65-4a54-c868-6cf8a1082535",
        "colab": {
          "base_uri": "https://localhost:8080/"
        }
      },
      "source": [
        "hist=model.fit(X_train, Y_train, epochs=100 ,batch_size=32 , validation_data=(X_val,Y_val))  #training the model"
      ],
      "execution_count": 86,
      "outputs": [
        {
          "output_type": "stream",
          "text": [
            "Epoch 1/100\n",
            "155/155 [==============================] - 0s 2ms/step - loss: 8.1568 - accuracy: 0.6446 - val_loss: 4.6418 - val_accuracy: 0.7348\n",
            "Epoch 2/100\n",
            "155/155 [==============================] - 0s 2ms/step - loss: 4.3395 - accuracy: 0.6738 - val_loss: 3.4403 - val_accuracy: 0.7320\n",
            "Epoch 3/100\n",
            "155/155 [==============================] - 0s 1ms/step - loss: 4.7357 - accuracy: 0.6763 - val_loss: 6.4675 - val_accuracy: 0.7330\n",
            "Epoch 4/100\n",
            "155/155 [==============================] - 0s 1ms/step - loss: 3.7460 - accuracy: 0.6880 - val_loss: 7.5381 - val_accuracy: 0.7311\n",
            "Epoch 5/100\n",
            "155/155 [==============================] - 0s 1ms/step - loss: 3.1087 - accuracy: 0.6988 - val_loss: 6.7491 - val_accuracy: 0.4508\n",
            "Epoch 6/100\n",
            "155/155 [==============================] - 0s 2ms/step - loss: 3.1087 - accuracy: 0.7006 - val_loss: 2.4321 - val_accuracy: 0.6553\n",
            "Epoch 7/100\n",
            "155/155 [==============================] - 0s 1ms/step - loss: 2.4427 - accuracy: 0.7008 - val_loss: 2.2544 - val_accuracy: 0.7509\n",
            "Epoch 8/100\n",
            "155/155 [==============================] - 0s 1ms/step - loss: 2.4084 - accuracy: 0.7041 - val_loss: 2.5333 - val_accuracy: 0.7188\n",
            "Epoch 9/100\n",
            "155/155 [==============================] - 0s 1ms/step - loss: 2.2170 - accuracy: 0.7089 - val_loss: 3.1207 - val_accuracy: 0.7453\n",
            "Epoch 10/100\n",
            "155/155 [==============================] - 0s 1ms/step - loss: 1.8996 - accuracy: 0.7160 - val_loss: 1.1365 - val_accuracy: 0.7661\n",
            "Epoch 11/100\n",
            "155/155 [==============================] - 0s 2ms/step - loss: 2.0153 - accuracy: 0.7057 - val_loss: 2.9492 - val_accuracy: 0.6023\n",
            "Epoch 12/100\n",
            "155/155 [==============================] - 0s 1ms/step - loss: 1.6193 - accuracy: 0.7231 - val_loss: 3.9541 - val_accuracy: 0.7481\n",
            "Epoch 13/100\n",
            "155/155 [==============================] - 0s 1ms/step - loss: 2.1540 - accuracy: 0.7207 - val_loss: 1.7223 - val_accuracy: 0.7377\n",
            "Epoch 14/100\n",
            "155/155 [==============================] - 0s 1ms/step - loss: 1.6583 - accuracy: 0.7181 - val_loss: 1.8858 - val_accuracy: 0.7557\n",
            "Epoch 15/100\n",
            "155/155 [==============================] - 0s 1ms/step - loss: 1.3197 - accuracy: 0.7187 - val_loss: 1.0604 - val_accuracy: 0.7614\n",
            "Epoch 16/100\n",
            "155/155 [==============================] - 0s 2ms/step - loss: 1.4273 - accuracy: 0.7162 - val_loss: 1.5096 - val_accuracy: 0.7405\n",
            "Epoch 17/100\n",
            "155/155 [==============================] - 0s 1ms/step - loss: 1.4200 - accuracy: 0.7203 - val_loss: 1.3297 - val_accuracy: 0.6581\n",
            "Epoch 18/100\n",
            "155/155 [==============================] - 0s 1ms/step - loss: 1.6411 - accuracy: 0.7045 - val_loss: 4.0171 - val_accuracy: 0.7301\n",
            "Epoch 19/100\n",
            "155/155 [==============================] - 0s 1ms/step - loss: 1.2398 - accuracy: 0.7286 - val_loss: 2.4893 - val_accuracy: 0.4735\n",
            "Epoch 20/100\n",
            "155/155 [==============================] - 0s 1ms/step - loss: 1.4454 - accuracy: 0.7189 - val_loss: 5.6102 - val_accuracy: 0.3295\n",
            "Epoch 21/100\n",
            "155/155 [==============================] - 0s 2ms/step - loss: 1.3797 - accuracy: 0.7110 - val_loss: 0.9868 - val_accuracy: 0.7244\n",
            "Epoch 22/100\n",
            "155/155 [==============================] - 0s 1ms/step - loss: 1.3265 - accuracy: 0.7195 - val_loss: 0.9889 - val_accuracy: 0.6657\n",
            "Epoch 23/100\n",
            "155/155 [==============================] - 0s 2ms/step - loss: 0.9015 - accuracy: 0.7357 - val_loss: 1.7611 - val_accuracy: 0.5398\n",
            "Epoch 24/100\n",
            "155/155 [==============================] - 0s 2ms/step - loss: 1.0427 - accuracy: 0.7243 - val_loss: 0.6279 - val_accuracy: 0.7718\n",
            "Epoch 25/100\n",
            "155/155 [==============================] - 0s 1ms/step - loss: 0.9065 - accuracy: 0.7298 - val_loss: 1.0105 - val_accuracy: 0.7027\n",
            "Epoch 26/100\n",
            "155/155 [==============================] - 0s 1ms/step - loss: 0.8453 - accuracy: 0.7363 - val_loss: 2.0296 - val_accuracy: 0.7282\n",
            "Epoch 27/100\n",
            "155/155 [==============================] - 0s 1ms/step - loss: 0.8546 - accuracy: 0.7312 - val_loss: 0.7559 - val_accuracy: 0.6970\n",
            "Epoch 28/100\n",
            "155/155 [==============================] - 0s 1ms/step - loss: 0.7237 - accuracy: 0.7428 - val_loss: 0.8798 - val_accuracy: 0.6562\n",
            "Epoch 29/100\n",
            "155/155 [==============================] - 0s 1ms/step - loss: 0.9735 - accuracy: 0.7170 - val_loss: 0.6109 - val_accuracy: 0.7528\n",
            "Epoch 30/100\n",
            "155/155 [==============================] - 0s 1ms/step - loss: 0.7344 - accuracy: 0.7402 - val_loss: 1.7357 - val_accuracy: 0.7330\n",
            "Epoch 31/100\n",
            "155/155 [==============================] - 0s 1ms/step - loss: 0.9272 - accuracy: 0.7243 - val_loss: 0.7720 - val_accuracy: 0.7642\n",
            "Epoch 32/100\n",
            "155/155 [==============================] - 0s 2ms/step - loss: 0.7836 - accuracy: 0.7310 - val_loss: 0.5549 - val_accuracy: 0.7509\n",
            "Epoch 33/100\n",
            "155/155 [==============================] - 0s 1ms/step - loss: 0.7022 - accuracy: 0.7359 - val_loss: 1.3248 - val_accuracy: 0.5057\n",
            "Epoch 34/100\n",
            "155/155 [==============================] - 0s 2ms/step - loss: 0.7436 - accuracy: 0.7341 - val_loss: 1.6787 - val_accuracy: 0.7301\n",
            "Epoch 35/100\n",
            "155/155 [==============================] - 0s 2ms/step - loss: 0.8253 - accuracy: 0.7189 - val_loss: 0.5553 - val_accuracy: 0.7633\n",
            "Epoch 36/100\n",
            "155/155 [==============================] - 0s 1ms/step - loss: 0.6208 - accuracy: 0.7491 - val_loss: 0.7941 - val_accuracy: 0.6241\n",
            "Epoch 37/100\n",
            "155/155 [==============================] - 0s 2ms/step - loss: 0.6527 - accuracy: 0.7436 - val_loss: 1.1824 - val_accuracy: 0.5843\n",
            "Epoch 38/100\n",
            "155/155 [==============================] - 0s 1ms/step - loss: 0.6622 - accuracy: 0.7365 - val_loss: 0.5673 - val_accuracy: 0.7472\n",
            "Epoch 39/100\n",
            "155/155 [==============================] - 0s 1ms/step - loss: 0.6273 - accuracy: 0.7426 - val_loss: 0.7033 - val_accuracy: 0.7064\n",
            "Epoch 40/100\n",
            "155/155 [==============================] - 0s 2ms/step - loss: 0.7491 - accuracy: 0.7249 - val_loss: 0.7319 - val_accuracy: 0.7292\n",
            "Epoch 41/100\n",
            "155/155 [==============================] - 0s 2ms/step - loss: 0.6473 - accuracy: 0.7363 - val_loss: 0.6442 - val_accuracy: 0.7434\n",
            "Epoch 42/100\n",
            "155/155 [==============================] - 0s 1ms/step - loss: 0.6259 - accuracy: 0.7343 - val_loss: 0.5348 - val_accuracy: 0.7670\n",
            "Epoch 43/100\n",
            "155/155 [==============================] - 0s 1ms/step - loss: 0.5636 - accuracy: 0.7544 - val_loss: 0.6091 - val_accuracy: 0.7576\n",
            "Epoch 44/100\n",
            "155/155 [==============================] - 0s 1ms/step - loss: 0.5822 - accuracy: 0.7456 - val_loss: 1.0409 - val_accuracy: 0.5265\n",
            "Epoch 45/100\n",
            "155/155 [==============================] - 0s 2ms/step - loss: 0.6476 - accuracy: 0.7359 - val_loss: 0.5851 - val_accuracy: 0.7311\n",
            "Epoch 46/100\n",
            "155/155 [==============================] - 0s 2ms/step - loss: 0.5563 - accuracy: 0.7505 - val_loss: 0.5386 - val_accuracy: 0.7680\n",
            "Epoch 47/100\n",
            "155/155 [==============================] - 0s 1ms/step - loss: 0.5561 - accuracy: 0.7519 - val_loss: 0.5891 - val_accuracy: 0.7491\n",
            "Epoch 48/100\n",
            "155/155 [==============================] - 0s 2ms/step - loss: 0.5558 - accuracy: 0.7517 - val_loss: 0.5301 - val_accuracy: 0.7869\n",
            "Epoch 49/100\n",
            "155/155 [==============================] - 0s 2ms/step - loss: 0.5883 - accuracy: 0.7438 - val_loss: 0.7197 - val_accuracy: 0.6193\n",
            "Epoch 50/100\n",
            "155/155 [==============================] - 0s 1ms/step - loss: 0.5471 - accuracy: 0.7568 - val_loss: 0.6004 - val_accuracy: 0.7169\n",
            "Epoch 51/100\n",
            "155/155 [==============================] - 0s 1ms/step - loss: 0.5380 - accuracy: 0.7570 - val_loss: 0.6045 - val_accuracy: 0.7320\n",
            "Epoch 52/100\n",
            "155/155 [==============================] - 0s 1ms/step - loss: 0.6061 - accuracy: 0.7327 - val_loss: 0.5306 - val_accuracy: 0.7472\n",
            "Epoch 53/100\n",
            "155/155 [==============================] - 0s 2ms/step - loss: 0.5681 - accuracy: 0.7507 - val_loss: 0.5288 - val_accuracy: 0.7585\n",
            "Epoch 54/100\n",
            "155/155 [==============================] - 0s 1ms/step - loss: 0.5420 - accuracy: 0.7533 - val_loss: 0.5494 - val_accuracy: 0.7642\n",
            "Epoch 55/100\n",
            "155/155 [==============================] - 0s 1ms/step - loss: 0.5402 - accuracy: 0.7544 - val_loss: 0.6577 - val_accuracy: 0.7358\n",
            "Epoch 56/100\n",
            "155/155 [==============================] - 0s 2ms/step - loss: 0.5483 - accuracy: 0.7462 - val_loss: 0.5318 - val_accuracy: 0.7453\n",
            "Epoch 57/100\n",
            "155/155 [==============================] - 0s 1ms/step - loss: 0.5250 - accuracy: 0.7580 - val_loss: 0.5402 - val_accuracy: 0.7538\n",
            "Epoch 58/100\n",
            "155/155 [==============================] - 0s 2ms/step - loss: 0.5459 - accuracy: 0.7552 - val_loss: 0.4990 - val_accuracy: 0.7888\n",
            "Epoch 59/100\n",
            "155/155 [==============================] - 0s 2ms/step - loss: 0.5314 - accuracy: 0.7604 - val_loss: 0.5903 - val_accuracy: 0.7301\n",
            "Epoch 60/100\n",
            "155/155 [==============================] - 0s 2ms/step - loss: 0.5382 - accuracy: 0.7546 - val_loss: 0.5073 - val_accuracy: 0.7794\n",
            "Epoch 61/100\n",
            "155/155 [==============================] - 0s 1ms/step - loss: 0.5128 - accuracy: 0.7645 - val_loss: 0.5512 - val_accuracy: 0.7652\n",
            "Epoch 62/100\n",
            "155/155 [==============================] - 0s 2ms/step - loss: 0.5184 - accuracy: 0.7588 - val_loss: 0.7117 - val_accuracy: 0.7396\n",
            "Epoch 63/100\n",
            "155/155 [==============================] - 0s 2ms/step - loss: 0.5263 - accuracy: 0.7598 - val_loss: 0.4965 - val_accuracy: 0.7898\n",
            "Epoch 64/100\n",
            "155/155 [==============================] - 0s 1ms/step - loss: 0.5074 - accuracy: 0.7700 - val_loss: 0.4877 - val_accuracy: 0.7822\n",
            "Epoch 65/100\n",
            "155/155 [==============================] - 0s 1ms/step - loss: 0.5100 - accuracy: 0.7694 - val_loss: 0.5051 - val_accuracy: 0.7756\n",
            "Epoch 66/100\n",
            "155/155 [==============================] - 0s 2ms/step - loss: 0.5094 - accuracy: 0.7641 - val_loss: 0.5497 - val_accuracy: 0.7538\n",
            "Epoch 67/100\n",
            "155/155 [==============================] - 0s 2ms/step - loss: 0.5329 - accuracy: 0.7531 - val_loss: 0.4874 - val_accuracy: 0.7794\n",
            "Epoch 68/100\n",
            "155/155 [==============================] - 0s 1ms/step - loss: 0.5097 - accuracy: 0.7665 - val_loss: 0.5150 - val_accuracy: 0.7765\n",
            "Epoch 69/100\n",
            "155/155 [==============================] - 0s 1ms/step - loss: 0.5037 - accuracy: 0.7684 - val_loss: 0.5136 - val_accuracy: 0.7547\n",
            "Epoch 70/100\n",
            "155/155 [==============================] - 0s 2ms/step - loss: 0.5090 - accuracy: 0.7663 - val_loss: 0.5155 - val_accuracy: 0.7595\n",
            "Epoch 71/100\n",
            "155/155 [==============================] - 0s 2ms/step - loss: 0.5091 - accuracy: 0.7637 - val_loss: 0.4895 - val_accuracy: 0.7812\n",
            "Epoch 72/100\n",
            "155/155 [==============================] - 0s 1ms/step - loss: 0.5117 - accuracy: 0.7645 - val_loss: 0.4913 - val_accuracy: 0.7812\n",
            "Epoch 73/100\n",
            "155/155 [==============================] - 0s 1ms/step - loss: 0.5228 - accuracy: 0.7598 - val_loss: 0.5032 - val_accuracy: 0.7822\n",
            "Epoch 74/100\n",
            "155/155 [==============================] - 0s 1ms/step - loss: 0.4977 - accuracy: 0.7732 - val_loss: 0.5184 - val_accuracy: 0.7472\n",
            "Epoch 75/100\n",
            "155/155 [==============================] - 0s 2ms/step - loss: 0.5026 - accuracy: 0.7655 - val_loss: 0.4800 - val_accuracy: 0.7746\n",
            "Epoch 76/100\n",
            "155/155 [==============================] - 0s 1ms/step - loss: 0.5127 - accuracy: 0.7645 - val_loss: 0.7059 - val_accuracy: 0.6894\n",
            "Epoch 77/100\n",
            "155/155 [==============================] - 0s 1ms/step - loss: 0.5327 - accuracy: 0.7572 - val_loss: 0.5159 - val_accuracy: 0.7765\n",
            "Epoch 78/100\n",
            "155/155 [==============================] - 0s 2ms/step - loss: 0.4998 - accuracy: 0.7665 - val_loss: 0.5015 - val_accuracy: 0.7699\n",
            "Epoch 79/100\n",
            "155/155 [==============================] - 0s 2ms/step - loss: 0.5097 - accuracy: 0.7619 - val_loss: 0.5188 - val_accuracy: 0.7595\n",
            "Epoch 80/100\n",
            "155/155 [==============================] - 0s 1ms/step - loss: 0.5012 - accuracy: 0.7710 - val_loss: 0.5491 - val_accuracy: 0.7500\n",
            "Epoch 81/100\n",
            "155/155 [==============================] - 0s 2ms/step - loss: 0.5154 - accuracy: 0.7594 - val_loss: 0.4889 - val_accuracy: 0.7718\n",
            "Epoch 82/100\n",
            "155/155 [==============================] - 0s 2ms/step - loss: 0.5027 - accuracy: 0.7641 - val_loss: 0.4981 - val_accuracy: 0.7538\n",
            "Epoch 83/100\n",
            "155/155 [==============================] - 0s 2ms/step - loss: 0.4933 - accuracy: 0.7659 - val_loss: 0.5415 - val_accuracy: 0.7405\n",
            "Epoch 84/100\n",
            "155/155 [==============================] - 0s 1ms/step - loss: 0.5030 - accuracy: 0.7671 - val_loss: 0.5321 - val_accuracy: 0.7680\n",
            "Epoch 85/100\n",
            "155/155 [==============================] - 0s 2ms/step - loss: 0.4984 - accuracy: 0.7690 - val_loss: 0.5020 - val_accuracy: 0.7367\n",
            "Epoch 86/100\n",
            "155/155 [==============================] - 0s 2ms/step - loss: 0.4965 - accuracy: 0.7718 - val_loss: 0.4989 - val_accuracy: 0.7699\n",
            "Epoch 87/100\n",
            "155/155 [==============================] - 0s 2ms/step - loss: 0.5023 - accuracy: 0.7519 - val_loss: 0.4921 - val_accuracy: 0.7727\n",
            "Epoch 88/100\n",
            "155/155 [==============================] - 0s 2ms/step - loss: 0.4868 - accuracy: 0.7751 - val_loss: 0.4856 - val_accuracy: 0.7765\n",
            "Epoch 89/100\n",
            "155/155 [==============================] - 0s 1ms/step - loss: 0.5036 - accuracy: 0.7655 - val_loss: 0.5145 - val_accuracy: 0.7633\n",
            "Epoch 90/100\n",
            "155/155 [==============================] - 0s 2ms/step - loss: 0.5594 - accuracy: 0.7327 - val_loss: 0.4954 - val_accuracy: 0.7623\n",
            "Epoch 91/100\n",
            "155/155 [==============================] - 0s 2ms/step - loss: 0.5029 - accuracy: 0.7625 - val_loss: 0.4937 - val_accuracy: 0.7633\n",
            "Epoch 92/100\n",
            "155/155 [==============================] - 0s 1ms/step - loss: 0.4961 - accuracy: 0.7635 - val_loss: 0.4878 - val_accuracy: 0.7708\n",
            "Epoch 93/100\n",
            "155/155 [==============================] - 0s 1ms/step - loss: 0.4936 - accuracy: 0.7706 - val_loss: 0.4792 - val_accuracy: 0.7727\n",
            "Epoch 94/100\n",
            "155/155 [==============================] - 0s 2ms/step - loss: 0.4934 - accuracy: 0.7712 - val_loss: 0.5031 - val_accuracy: 0.7642\n",
            "Epoch 95/100\n",
            "155/155 [==============================] - 0s 2ms/step - loss: 0.4940 - accuracy: 0.7649 - val_loss: 0.4943 - val_accuracy: 0.7699\n",
            "Epoch 96/100\n",
            "155/155 [==============================] - 0s 2ms/step - loss: 0.4955 - accuracy: 0.7631 - val_loss: 0.5281 - val_accuracy: 0.7282\n",
            "Epoch 97/100\n",
            "155/155 [==============================] - 0s 2ms/step - loss: 0.4963 - accuracy: 0.7651 - val_loss: 0.5249 - val_accuracy: 0.7519\n",
            "Epoch 98/100\n",
            "155/155 [==============================] - 0s 2ms/step - loss: 0.4939 - accuracy: 0.7673 - val_loss: 0.4862 - val_accuracy: 0.7642\n",
            "Epoch 99/100\n",
            "155/155 [==============================] - 0s 2ms/step - loss: 0.5226 - accuracy: 0.7487 - val_loss: 0.5001 - val_accuracy: 0.7386\n",
            "Epoch 100/100\n",
            "155/155 [==============================] - 0s 1ms/step - loss: 0.5017 - accuracy: 0.7596 - val_loss: 0.5111 - val_accuracy: 0.7528\n"
          ],
          "name": "stdout"
        }
      ]
    },
    {
      "cell_type": "code",
      "metadata": {
        "id": "bFCIwBIMZ1MD",
        "outputId": "deb89593-6704-494b-9661-5094b3a3d1ba",
        "colab": {
          "base_uri": "https://localhost:8080/"
        }
      },
      "source": [
        "model.evaluate(X_test,Y_test)[1]"
      ],
      "execution_count": 87,
      "outputs": [
        {
          "output_type": "stream",
          "text": [
            "34/34 [==============================] - 0s 1ms/step - loss: 0.5098 - accuracy: 0.7654\n"
          ],
          "name": "stdout"
        },
        {
          "output_type": "execute_result",
          "data": {
            "text/plain": [
              "0.765373706817627"
            ]
          },
          "metadata": {
            "tags": []
          },
          "execution_count": 87
        }
      ]
    },
    {
      "cell_type": "markdown",
      "metadata": {
        "id": "BMfRk0iOfKx1"
      },
      "source": [
        "Visualising Accuracy and loss:"
      ]
    },
    {
      "cell_type": "code",
      "metadata": {
        "id": "roMzvPWcaIgD",
        "outputId": "ed8ef01c-6ac6-4880-892b-e094604ceae5",
        "colab": {
          "base_uri": "https://localhost:8080/",
          "height": 295
        }
      },
      "source": [
        "import matplotlib.pyplot as plt\n",
        "plt.plot(hist.history['accuracy'])\n",
        "plt.plot(hist.history['val_accuracy'])\n",
        "plt.title('Model Accuracy')\n",
        "plt.xlabel('Epoch')\n",
        "plt.ylabel('Accuracy')\n",
        "plt.legend(['Train','val'],loc='lower right')\n",
        "plt.show()"
      ],
      "execution_count": 88,
      "outputs": [
        {
          "output_type": "display_data",
          "data": {
            "image/png": "[encoded data removed]",
            "text/plain": [
              "<Figure size 432x288 with 1 Axes>"
            ]
          },
          "metadata": {
            "tags": [],
            "needs_background": "light"
          }
        }
      ]
    },
    {
      "cell_type": "code",
      "metadata": {
        "id": "fuzum8NvfYL6"
      },
      "source": [
        ""
      ],
      "execution_count": null,
      "outputs": []
    }
  ]
}